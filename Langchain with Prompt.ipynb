{
 "cells": [
  {
   "cell_type": "code",
   "execution_count": 2,
   "metadata": {},
   "outputs": [
    {
     "name": "stdout",
     "output_type": "stream",
     "text": [
      "Collecting langchain-core\n",
      "  Downloading langchain_core-0.3.74-py3-none-any.whl.metadata (5.8 kB)\n",
      "Collecting langsmith>=0.3.45 (from langchain-core)\n",
      "  Downloading langsmith-0.4.14-py3-none-any.whl.metadata (14 kB)\n",
      "Requirement already satisfied: tenacity!=8.4.0,<10.0.0,>=8.1.0 in c:\\users\\hp\\appdata\\local\\programs\\python\\python312\\lib\\site-packages (from langchain-core) (9.0.0)\n",
      "Collecting jsonpatch<2.0,>=1.33 (from langchain-core)\n",
      "  Using cached jsonpatch-1.33-py2.py3-none-any.whl.metadata (3.0 kB)\n",
      "Collecting PyYAML>=5.3 (from langchain-core)\n",
      "  Using cached PyYAML-6.0.2-cp312-cp312-win_amd64.whl.metadata (2.1 kB)\n",
      "Requirement already satisfied: typing-extensions>=4.7 in c:\\users\\hp\\appdata\\local\\programs\\python\\python312\\lib\\site-packages (from langchain-core) (4.13.0)\n",
      "Requirement already satisfied: packaging>=23.2 in c:\\users\\hp\\appdata\\local\\programs\\python\\python312\\lib\\site-packages (from langchain-core) (24.2)\n",
      "Requirement already satisfied: pydantic>=2.7.4 in c:\\users\\hp\\appdata\\local\\programs\\python\\python312\\lib\\site-packages (from langchain-core) (2.11.1)\n",
      "Collecting jsonpointer>=1.9 (from jsonpatch<2.0,>=1.33->langchain-core)\n",
      "  Using cached jsonpointer-3.0.0-py2.py3-none-any.whl.metadata (2.3 kB)\n",
      "Requirement already satisfied: httpx<1,>=0.23.0 in c:\\users\\hp\\appdata\\local\\programs\\python\\python312\\lib\\site-packages (from langsmith>=0.3.45->langchain-core) (0.28.1)\n",
      "Collecting orjson>=3.9.14 (from langsmith>=0.3.45->langchain-core)\n",
      "  Downloading orjson-3.11.2-cp312-cp312-win_amd64.whl.metadata (1.2 kB)\n",
      "Collecting requests-toolbelt>=1.0.0 (from langsmith>=0.3.45->langchain-core)\n",
      "  Using cached requests_toolbelt-1.0.0-py2.py3-none-any.whl.metadata (14 kB)\n",
      "Requirement already satisfied: requests>=2.0.0 in c:\\users\\hp\\appdata\\local\\programs\\python\\python312\\lib\\site-packages (from langsmith>=0.3.45->langchain-core) (2.32.3)\n",
      "Collecting zstandard>=0.23.0 (from langsmith>=0.3.45->langchain-core)\n",
      "  Downloading zstandard-0.24.0-cp312-cp312-win_amd64.whl.metadata (3.2 kB)\n",
      "Requirement already satisfied: anyio in c:\\users\\hp\\appdata\\local\\programs\\python\\python312\\lib\\site-packages (from httpx<1,>=0.23.0->langsmith>=0.3.45->langchain-core) (4.9.0)\n",
      "Requirement already satisfied: certifi in c:\\users\\hp\\appdata\\local\\programs\\python\\python312\\lib\\site-packages (from httpx<1,>=0.23.0->langsmith>=0.3.45->langchain-core) (2025.1.31)\n",
      "Requirement already satisfied: httpcore==1.* in c:\\users\\hp\\appdata\\local\\programs\\python\\python312\\lib\\site-packages (from httpx<1,>=0.23.0->langsmith>=0.3.45->langchain-core) (1.0.7)\n",
      "Requirement already satisfied: idna in c:\\users\\hp\\appdata\\local\\programs\\python\\python312\\lib\\site-packages (from httpx<1,>=0.23.0->langsmith>=0.3.45->langchain-core) (3.10)\n",
      "Requirement already satisfied: h11<0.15,>=0.13 in c:\\users\\hp\\appdata\\local\\programs\\python\\python312\\lib\\site-packages (from httpcore==1.*->httpx<1,>=0.23.0->langsmith>=0.3.45->langchain-core) (0.14.0)\n",
      "Requirement already satisfied: annotated-types>=0.6.0 in c:\\users\\hp\\appdata\\local\\programs\\python\\python312\\lib\\site-packages (from pydantic>=2.7.4->langchain-core) (0.7.0)\n",
      "Requirement already satisfied: pydantic-core==2.33.0 in c:\\users\\hp\\appdata\\local\\programs\\python\\python312\\lib\\site-packages (from pydantic>=2.7.4->langchain-core) (2.33.0)\n",
      "Requirement already satisfied: typing-inspection>=0.4.0 in c:\\users\\hp\\appdata\\local\\programs\\python\\python312\\lib\\site-packages (from pydantic>=2.7.4->langchain-core) (0.4.0)\n",
      "Requirement already satisfied: charset-normalizer<4,>=2 in c:\\users\\hp\\appdata\\local\\programs\\python\\python312\\lib\\site-packages (from requests>=2.0.0->langsmith>=0.3.45->langchain-core) (3.4.1)\n",
      "Requirement already satisfied: urllib3<3,>=1.21.1 in c:\\users\\hp\\appdata\\local\\programs\\python\\python312\\lib\\site-packages (from requests>=2.0.0->langsmith>=0.3.45->langchain-core) (2.3.0)\n",
      "Requirement already satisfied: sniffio>=1.1 in c:\\users\\hp\\appdata\\local\\programs\\python\\python312\\lib\\site-packages (from anyio->httpx<1,>=0.23.0->langsmith>=0.3.45->langchain-core) (1.3.1)\n",
      "Downloading langchain_core-0.3.74-py3-none-any.whl (443 kB)\n",
      "Using cached jsonpatch-1.33-py2.py3-none-any.whl (12 kB)\n",
      "Using cached jsonpointer-3.0.0-py2.py3-none-any.whl (7.6 kB)\n",
      "Downloading langsmith-0.4.14-py3-none-any.whl (373 kB)\n",
      "Downloading orjson-3.11.2-cp312-cp312-win_amd64.whl (119 kB)\n",
      "Using cached PyYAML-6.0.2-cp312-cp312-win_amd64.whl (156 kB)\n",
      "Using cached requests_toolbelt-1.0.0-py2.py3-none-any.whl (54 kB)\n",
      "Downloading zstandard-0.24.0-cp312-cp312-win_amd64.whl (505 kB)\n",
      "Installing collected packages: zstandard, PyYAML, orjson, jsonpointer, requests-toolbelt, jsonpatch, langsmith, langchain-core\n",
      "\n",
      "   ----- ---------------------------------- 1/8 [PyYAML]\n",
      "   ----- ---------------------------------- 1/8 [PyYAML]\n",
      "   --------------- ------------------------ 3/8 [jsonpointer]\n",
      "   -------------------- ------------------- 4/8 [requests-toolbelt]\n",
      "   -------------------- ------------------- 4/8 [requests-toolbelt]\n",
      "   -------------------- ------------------- 4/8 [requests-toolbelt]\n",
      "   ------------------------------ --------- 6/8 [langsmith]\n",
      "   ------------------------------ --------- 6/8 [langsmith]\n",
      "   ------------------------------ --------- 6/8 [langsmith]\n",
      "   ------------------------------ --------- 6/8 [langsmith]\n",
      "   ------------------------------ --------- 6/8 [langsmith]\n",
      "   ------------------------------ --------- 6/8 [langsmith]\n",
      "   ------------------------------ --------- 6/8 [langsmith]\n",
      "   ----------------------------------- ---- 7/8 [langchain-core]\n",
      "   ----------------------------------- ---- 7/8 [langchain-core]\n",
      "   ----------------------------------- ---- 7/8 [langchain-core]\n",
      "   ----------------------------------- ---- 7/8 [langchain-core]\n",
      "   ----------------------------------- ---- 7/8 [langchain-core]\n",
      "   ----------------------------------- ---- 7/8 [langchain-core]\n",
      "   ----------------------------------- ---- 7/8 [langchain-core]\n",
      "   ----------------------------------- ---- 7/8 [langchain-core]\n",
      "   ----------------------------------- ---- 7/8 [langchain-core]\n",
      "   ----------------------------------- ---- 7/8 [langchain-core]\n",
      "   ----------------------------------- ---- 7/8 [langchain-core]\n",
      "   ----------------------------------- ---- 7/8 [langchain-core]\n",
      "   ----------------------------------- ---- 7/8 [langchain-core]\n",
      "   ----------------------------------- ---- 7/8 [langchain-core]\n",
      "   ----------------------------------- ---- 7/8 [langchain-core]\n",
      "   ----------------------------------- ---- 7/8 [langchain-core]\n",
      "   ----------------------------------- ---- 7/8 [langchain-core]\n",
      "   ---------------------------------------- 8/8 [langchain-core]\n",
      "\n",
      "Successfully installed PyYAML-6.0.2 jsonpatch-1.33 jsonpointer-3.0.0 langchain-core-0.3.74 langsmith-0.4.14 orjson-3.11.2 requests-toolbelt-1.0.0 zstandard-0.24.0\n"
     ]
    }
   ],
   "source": [
    "!pip install langchain-core"
   ]
  },
  {
   "cell_type": "code",
   "execution_count": 8,
   "metadata": {},
   "outputs": [
    {
     "name": "stdout",
     "output_type": "stream",
     "text": [
      "Collecting langchain\n",
      "  Downloading langchain-0.3.27-py3-none-any.whl.metadata (7.8 kB)\n",
      "Requirement already satisfied: langchain-core<1.0.0,>=0.3.72 in c:\\users\\hp\\appdata\\local\\programs\\python\\python312\\lib\\site-packages (from langchain) (0.3.74)\n",
      "Collecting langchain-text-splitters<1.0.0,>=0.3.9 (from langchain)\n",
      "  Downloading langchain_text_splitters-0.3.9-py3-none-any.whl.metadata (1.9 kB)\n",
      "Requirement already satisfied: langsmith>=0.1.17 in c:\\users\\hp\\appdata\\local\\programs\\python\\python312\\lib\\site-packages (from langchain) (0.4.14)\n",
      "Requirement already satisfied: pydantic<3.0.0,>=2.7.4 in c:\\users\\hp\\appdata\\local\\programs\\python\\python312\\lib\\site-packages (from langchain) (2.11.1)\n",
      "Collecting SQLAlchemy<3,>=1.4 (from langchain)\n",
      "  Downloading sqlalchemy-2.0.43-cp312-cp312-win_amd64.whl.metadata (9.8 kB)\n",
      "Requirement already satisfied: requests<3,>=2 in c:\\users\\hp\\appdata\\local\\programs\\python\\python312\\lib\\site-packages (from langchain) (2.32.3)\n",
      "Requirement already satisfied: PyYAML>=5.3 in c:\\users\\hp\\appdata\\local\\programs\\python\\python312\\lib\\site-packages (from langchain) (6.0.2)\n",
      "Requirement already satisfied: tenacity!=8.4.0,<10.0.0,>=8.1.0 in c:\\users\\hp\\appdata\\local\\programs\\python\\python312\\lib\\site-packages (from langchain-core<1.0.0,>=0.3.72->langchain) (9.0.0)\n",
      "Requirement already satisfied: jsonpatch<2.0,>=1.33 in c:\\users\\hp\\appdata\\local\\programs\\python\\python312\\lib\\site-packages (from langchain-core<1.0.0,>=0.3.72->langchain) (1.33)\n",
      "Requirement already satisfied: typing-extensions>=4.7 in c:\\users\\hp\\appdata\\local\\programs\\python\\python312\\lib\\site-packages (from langchain-core<1.0.0,>=0.3.72->langchain) (4.13.0)\n",
      "Requirement already satisfied: packaging>=23.2 in c:\\users\\hp\\appdata\\local\\programs\\python\\python312\\lib\\site-packages (from langchain-core<1.0.0,>=0.3.72->langchain) (24.2)\n",
      "Requirement already satisfied: jsonpointer>=1.9 in c:\\users\\hp\\appdata\\local\\programs\\python\\python312\\lib\\site-packages (from jsonpatch<2.0,>=1.33->langchain-core<1.0.0,>=0.3.72->langchain) (3.0.0)\n",
      "Requirement already satisfied: annotated-types>=0.6.0 in c:\\users\\hp\\appdata\\local\\programs\\python\\python312\\lib\\site-packages (from pydantic<3.0.0,>=2.7.4->langchain) (0.7.0)\n",
      "Requirement already satisfied: pydantic-core==2.33.0 in c:\\users\\hp\\appdata\\local\\programs\\python\\python312\\lib\\site-packages (from pydantic<3.0.0,>=2.7.4->langchain) (2.33.0)\n",
      "Requirement already satisfied: typing-inspection>=0.4.0 in c:\\users\\hp\\appdata\\local\\programs\\python\\python312\\lib\\site-packages (from pydantic<3.0.0,>=2.7.4->langchain) (0.4.0)\n",
      "Requirement already satisfied: charset-normalizer<4,>=2 in c:\\users\\hp\\appdata\\local\\programs\\python\\python312\\lib\\site-packages (from requests<3,>=2->langchain) (3.4.1)\n",
      "Requirement already satisfied: idna<4,>=2.5 in c:\\users\\hp\\appdata\\local\\programs\\python\\python312\\lib\\site-packages (from requests<3,>=2->langchain) (3.10)\n",
      "Requirement already satisfied: urllib3<3,>=1.21.1 in c:\\users\\hp\\appdata\\local\\programs\\python\\python312\\lib\\site-packages (from requests<3,>=2->langchain) (2.3.0)\n",
      "Requirement already satisfied: certifi>=2017.4.17 in c:\\users\\hp\\appdata\\local\\programs\\python\\python312\\lib\\site-packages (from requests<3,>=2->langchain) (2025.1.31)\n",
      "Collecting greenlet>=1 (from SQLAlchemy<3,>=1.4->langchain)\n",
      "  Downloading greenlet-3.2.4-cp312-cp312-win_amd64.whl.metadata (4.2 kB)\n",
      "Requirement already satisfied: httpx<1,>=0.23.0 in c:\\users\\hp\\appdata\\local\\programs\\python\\python312\\lib\\site-packages (from langsmith>=0.1.17->langchain) (0.28.1)\n",
      "Requirement already satisfied: orjson>=3.9.14 in c:\\users\\hp\\appdata\\local\\programs\\python\\python312\\lib\\site-packages (from langsmith>=0.1.17->langchain) (3.11.2)\n",
      "Requirement already satisfied: requests-toolbelt>=1.0.0 in c:\\users\\hp\\appdata\\local\\programs\\python\\python312\\lib\\site-packages (from langsmith>=0.1.17->langchain) (1.0.0)\n",
      "Requirement already satisfied: zstandard>=0.23.0 in c:\\users\\hp\\appdata\\local\\programs\\python\\python312\\lib\\site-packages (from langsmith>=0.1.17->langchain) (0.24.0)\n",
      "Requirement already satisfied: anyio in c:\\users\\hp\\appdata\\local\\programs\\python\\python312\\lib\\site-packages (from httpx<1,>=0.23.0->langsmith>=0.1.17->langchain) (4.9.0)\n",
      "Requirement already satisfied: httpcore==1.* in c:\\users\\hp\\appdata\\local\\programs\\python\\python312\\lib\\site-packages (from httpx<1,>=0.23.0->langsmith>=0.1.17->langchain) (1.0.7)\n",
      "Requirement already satisfied: h11<0.15,>=0.13 in c:\\users\\hp\\appdata\\local\\programs\\python\\python312\\lib\\site-packages (from httpcore==1.*->httpx<1,>=0.23.0->langsmith>=0.1.17->langchain) (0.14.0)\n",
      "Requirement already satisfied: sniffio>=1.1 in c:\\users\\hp\\appdata\\local\\programs\\python\\python312\\lib\\site-packages (from anyio->httpx<1,>=0.23.0->langsmith>=0.1.17->langchain) (1.3.1)\n",
      "Downloading langchain-0.3.27-py3-none-any.whl (1.0 MB)\n",
      "   ---------------------------------------- 0.0/1.0 MB ? eta -:--:--\n",
      "   ---------------------------------------- 1.0/1.0 MB 5.4 MB/s  0:00:00\n",
      "Downloading langchain_text_splitters-0.3.9-py3-none-any.whl (33 kB)\n",
      "Downloading sqlalchemy-2.0.43-cp312-cp312-win_amd64.whl (2.1 MB)\n",
      "   ---------------------------------------- 0.0/2.1 MB ? eta -:--:--\n",
      "   -------------- ------------------------- 0.8/2.1 MB 3.7 MB/s eta 0:00:01\n",
      "   ----------------------------- ---------- 1.6/2.1 MB 4.0 MB/s eta 0:00:01\n",
      "   ---------------------------------------- 2.1/2.1 MB 3.5 MB/s  0:00:00\n",
      "Downloading greenlet-3.2.4-cp312-cp312-win_amd64.whl (299 kB)\n",
      "Installing collected packages: greenlet, SQLAlchemy, langchain-text-splitters, langchain\n",
      "\n",
      "   ---------------------------------------- 0/4 [greenlet]\n",
      "   ---------------------------------------- 0/4 [greenlet]\n",
      "   ---------- ----------------------------- 1/4 [SQLAlchemy]\n",
      "   ---------- ----------------------------- 1/4 [SQLAlchemy]\n",
      "   ---------- ----------------------------- 1/4 [SQLAlchemy]\n",
      "   ---------- ----------------------------- 1/4 [SQLAlchemy]\n",
      "   ---------- ----------------------------- 1/4 [SQLAlchemy]\n",
      "   ---------- ----------------------------- 1/4 [SQLAlchemy]\n",
      "   ---------- ----------------------------- 1/4 [SQLAlchemy]\n",
      "   ---------- ----------------------------- 1/4 [SQLAlchemy]\n",
      "   ---------- ----------------------------- 1/4 [SQLAlchemy]\n",
      "   ---------- ----------------------------- 1/4 [SQLAlchemy]\n",
      "   ---------- ----------------------------- 1/4 [SQLAlchemy]\n",
      "   ---------- ----------------------------- 1/4 [SQLAlchemy]\n",
      "   ---------- ----------------------------- 1/4 [SQLAlchemy]\n",
      "   ---------- ----------------------------- 1/4 [SQLAlchemy]\n",
      "   ---------- ----------------------------- 1/4 [SQLAlchemy]\n",
      "   ---------- ----------------------------- 1/4 [SQLAlchemy]\n",
      "   ---------- ----------------------------- 1/4 [SQLAlchemy]\n",
      "   ---------- ----------------------------- 1/4 [SQLAlchemy]\n",
      "   ---------- ----------------------------- 1/4 [SQLAlchemy]\n",
      "   ---------- ----------------------------- 1/4 [SQLAlchemy]\n",
      "   ---------- ----------------------------- 1/4 [SQLAlchemy]\n",
      "   ---------- ----------------------------- 1/4 [SQLAlchemy]\n",
      "   ---------- ----------------------------- 1/4 [SQLAlchemy]\n",
      "   ---------- ----------------------------- 1/4 [SQLAlchemy]\n",
      "   ---------- ----------------------------- 1/4 [SQLAlchemy]\n",
      "   ---------- ----------------------------- 1/4 [SQLAlchemy]\n",
      "   ---------- ----------------------------- 1/4 [SQLAlchemy]\n",
      "   ---------- ----------------------------- 1/4 [SQLAlchemy]\n",
      "   ---------- ----------------------------- 1/4 [SQLAlchemy]\n",
      "   ---------- ----------------------------- 1/4 [SQLAlchemy]\n",
      "   ---------- ----------------------------- 1/4 [SQLAlchemy]\n",
      "   ---------- ----------------------------- 1/4 [SQLAlchemy]\n",
      "   ---------- ----------------------------- 1/4 [SQLAlchemy]\n",
      "   ---------- ----------------------------- 1/4 [SQLAlchemy]\n",
      "   -------------------- ------------------- 2/4 [langchain-text-splitters]\n",
      "   -------------------- ------------------- 2/4 [langchain-text-splitters]\n",
      "   ------------------------------ --------- 3/4 [langchain]\n",
      "   ------------------------------ --------- 3/4 [langchain]\n",
      "   ------------------------------ --------- 3/4 [langchain]\n",
      "   ------------------------------ --------- 3/4 [langchain]\n",
      "   ------------------------------ --------- 3/4 [langchain]\n",
      "   ------------------------------ --------- 3/4 [langchain]\n",
      "   ------------------------------ --------- 3/4 [langchain]\n",
      "   ------------------------------ --------- 3/4 [langchain]\n",
      "   ------------------------------ --------- 3/4 [langchain]\n",
      "   ------------------------------ --------- 3/4 [langchain]\n",
      "   ------------------------------ --------- 3/4 [langchain]\n",
      "   ------------------------------ --------- 3/4 [langchain]\n",
      "   ------------------------------ --------- 3/4 [langchain]\n",
      "   ------------------------------ --------- 3/4 [langchain]\n",
      "   ------------------------------ --------- 3/4 [langchain]\n",
      "   ------------------------------ --------- 3/4 [langchain]\n",
      "   ------------------------------ --------- 3/4 [langchain]\n",
      "   ------------------------------ --------- 3/4 [langchain]\n",
      "   ------------------------------ --------- 3/4 [langchain]\n",
      "   ------------------------------ --------- 3/4 [langchain]\n",
      "   ------------------------------ --------- 3/4 [langchain]\n",
      "   ------------------------------ --------- 3/4 [langchain]\n",
      "   ------------------------------ --------- 3/4 [langchain]\n",
      "   ------------------------------ --------- 3/4 [langchain]\n",
      "   ------------------------------ --------- 3/4 [langchain]\n",
      "   ------------------------------ --------- 3/4 [langchain]\n",
      "   ------------------------------ --------- 3/4 [langchain]\n",
      "   ------------------------------ --------- 3/4 [langchain]\n",
      "   ------------------------------ --------- 3/4 [langchain]\n",
      "   ------------------------------ --------- 3/4 [langchain]\n",
      "   ------------------------------ --------- 3/4 [langchain]\n",
      "   ------------------------------ --------- 3/4 [langchain]\n",
      "   ------------------------------ --------- 3/4 [langchain]\n",
      "   ------------------------------ --------- 3/4 [langchain]\n",
      "   ------------------------------ --------- 3/4 [langchain]\n",
      "   ------------------------------ --------- 3/4 [langchain]\n",
      "   ------------------------------ --------- 3/4 [langchain]\n",
      "   ------------------------------ --------- 3/4 [langchain]\n",
      "   ------------------------------ --------- 3/4 [langchain]\n",
      "   ------------------------------ --------- 3/4 [langchain]\n",
      "   ------------------------------ --------- 3/4 [langchain]\n",
      "   ------------------------------ --------- 3/4 [langchain]\n",
      "   ------------------------------ --------- 3/4 [langchain]\n",
      "   ------------------------------ --------- 3/4 [langchain]\n",
      "   ------------------------------ --------- 3/4 [langchain]\n",
      "   ------------------------------ --------- 3/4 [langchain]\n",
      "   ------------------------------ --------- 3/4 [langchain]\n",
      "   ------------------------------ --------- 3/4 [langchain]\n",
      "   ------------------------------ --------- 3/4 [langchain]\n",
      "   ------------------------------ --------- 3/4 [langchain]\n",
      "   ------------------------------ --------- 3/4 [langchain]\n",
      "   ------------------------------ --------- 3/4 [langchain]\n",
      "   ------------------------------ --------- 3/4 [langchain]\n",
      "   ------------------------------ --------- 3/4 [langchain]\n",
      "   ------------------------------ --------- 3/4 [langchain]\n",
      "   ------------------------------ --------- 3/4 [langchain]\n",
      "   ------------------------------ --------- 3/4 [langchain]\n",
      "   ------------------------------ --------- 3/4 [langchain]\n",
      "   ------------------------------ --------- 3/4 [langchain]\n",
      "   ------------------------------ --------- 3/4 [langchain]\n",
      "   ------------------------------ --------- 3/4 [langchain]\n",
      "   ------------------------------ --------- 3/4 [langchain]\n",
      "   ------------------------------ --------- 3/4 [langchain]\n",
      "   ------------------------------ --------- 3/4 [langchain]\n",
      "   ------------------------------ --------- 3/4 [langchain]\n",
      "   ------------------------------ --------- 3/4 [langchain]\n",
      "   ------------------------------ --------- 3/4 [langchain]\n",
      "   ------------------------------ --------- 3/4 [langchain]\n",
      "   ------------------------------ --------- 3/4 [langchain]\n",
      "   ------------------------------ --------- 3/4 [langchain]\n",
      "   ------------------------------ --------- 3/4 [langchain]\n",
      "   ------------------------------ --------- 3/4 [langchain]\n",
      "   ------------------------------ --------- 3/4 [langchain]\n",
      "   ------------------------------ --------- 3/4 [langchain]\n",
      "   ------------------------------ --------- 3/4 [langchain]\n",
      "   ------------------------------ --------- 3/4 [langchain]\n",
      "   ------------------------------ --------- 3/4 [langchain]\n",
      "   ------------------------------ --------- 3/4 [langchain]\n",
      "   ------------------------------ --------- 3/4 [langchain]\n",
      "   ------------------------------ --------- 3/4 [langchain]\n",
      "   ------------------------------ --------- 3/4 [langchain]\n",
      "   ------------------------------ --------- 3/4 [langchain]\n",
      "   ------------------------------ --------- 3/4 [langchain]\n",
      "   ------------------------------ --------- 3/4 [langchain]\n",
      "   ------------------------------ --------- 3/4 [langchain]\n",
      "   ------------------------------ --------- 3/4 [langchain]\n",
      "   ------------------------------ --------- 3/4 [langchain]\n",
      "   ------------------------------ --------- 3/4 [langchain]\n",
      "   ------------------------------ --------- 3/4 [langchain]\n",
      "   ------------------------------ --------- 3/4 [langchain]\n",
      "   ------------------------------ --------- 3/4 [langchain]\n",
      "   ------------------------------ --------- 3/4 [langchain]\n",
      "   ------------------------------ --------- 3/4 [langchain]\n",
      "   ------------------------------ --------- 3/4 [langchain]\n",
      "   ------------------------------ --------- 3/4 [langchain]\n",
      "   ------------------------------ --------- 3/4 [langchain]\n",
      "   ------------------------------ --------- 3/4 [langchain]\n",
      "   ---------------------------------------- 4/4 [langchain]\n",
      "\n",
      "Successfully installed SQLAlchemy-2.0.43 greenlet-3.2.4 langchain-0.3.27 langchain-text-splitters-0.3.9\n"
     ]
    }
   ],
   "source": [
    "!pip install langchain"
   ]
  },
  {
   "attachments": {},
   "cell_type": "markdown",
   "metadata": {},
   "source": [
    "## LANGCHAIN WITH PROMPT"
   ]
  },
  {
   "cell_type": "code",
   "execution_count": null,
   "metadata": {},
   "outputs": [],
   "source": [
    "import os\n",
    "os.environ[\"OPENAI_API_KEY\"] = \"ENTER_API_KEY\""
   ]
  },
  {
   "cell_type": "markdown",
   "metadata": {},
   "source": [
    "### PROMPT TEMPLATE"
   ]
  },
  {
   "cell_type": "code",
   "execution_count": 10,
   "metadata": {},
   "outputs": [
    {
     "data": {
      "text/plain": [
       "'What is a good name for a company that makes colorful socks?'"
      ]
     },
     "execution_count": 10,
     "metadata": {},
     "output_type": "execute_result"
    }
   ],
   "source": [
    "from langchain_core.prompts import PromptTemplate\n",
    "\n",
    "prompt = PromptTemplate.from_template(\"What is a good name for a company that makes {product}?\")\n",
    "prompt.format(product=\"colorful socks\")"
   ]
  },
  {
   "cell_type": "markdown",
   "metadata": {},
   "source": [
    "### CHATPROMPT TEMPLATE"
   ]
  },
  {
   "cell_type": "code",
   "execution_count": 11,
   "metadata": {},
   "outputs": [
    {
     "data": {
      "text/plain": [
       "[SystemMessage(content='You are a helpful assistant that translates English to French.', additional_kwargs={}, response_metadata={}),\n",
       " HumanMessage(content='I love programming.', additional_kwargs={}, response_metadata={})]"
      ]
     },
     "execution_count": 11,
     "metadata": {},
     "output_type": "execute_result"
    }
   ],
   "source": [
    "from langchain_core.prompts.chat import ChatPromptTemplate\n",
    "\n",
    "template = \"You are a helpful assistant that translates {input_language} to {output_language}.\"\n",
    "human_template = \"{text}\"\n",
    "\n",
    "chat_prompt = ChatPromptTemplate.from_messages([\n",
    "    (\"system\", template),\n",
    "    (\"human\", human_template),\n",
    "])\n",
    "\n",
    "chat_prompt.format_messages(input_language=\"English\", output_language=\"French\", text=\"I love programming.\")"
   ]
  },
  {
   "cell_type": "markdown",
   "metadata": {},
   "source": [
    "### OUTPUT PARSER"
   ]
  },
  {
   "cell_type": "code",
   "execution_count": 13,
   "metadata": {},
   "outputs": [
    {
     "data": {
      "text/plain": [
       "['Hi', 'Hello']"
      ]
     },
     "execution_count": 13,
     "metadata": {},
     "output_type": "execute_result"
    }
   ],
   "source": [
    "from langchain.output_parsers import CommaSeparatedListOutputParser\n",
    "\n",
    "output_parser = CommaSeparatedListOutputParser()\n",
    "output_parser.parse(\"Hi, Hello\")"
   ]
  },
  {
   "cell_type": "code",
   "execution_count": 14,
   "metadata": {},
   "outputs": [
    {
     "data": {
      "text/plain": [
       "'I want to suggest file IT return. \\nIn an easy way, explain the basics of income tax.'"
      ]
     },
     "execution_count": 14,
     "metadata": {},
     "output_type": "execute_result"
    }
   ],
   "source": [
    "from langchain import PromptTemplate\n",
    "\n",
    "demo_template='''I want to suggest file IT return. \n",
    "In an easy way, explain the basics of {financial_concept}.'''\n",
    "\n",
    "prompt=PromptTemplate(\n",
    "    input_variables=['financial_concept'],\n",
    "    template=demo_template\n",
    "    )\n",
    "\n",
    "prompt.format(financial_concept='income tax')"
   ]
  },
  {
   "cell_type": "code",
   "execution_count": 16,
   "metadata": {},
   "outputs": [
    {
     "name": "stdout",
     "output_type": "stream",
     "text": [
      "Requirement already satisfied: langchain in c:\\users\\hp\\appdata\\local\\programs\\python\\python312\\lib\\site-packages (0.3.27)\n",
      "Collecting langchain-community\n",
      "  Downloading langchain_community-0.3.27-py3-none-any.whl.metadata (2.9 kB)\n",
      "Requirement already satisfied: langchain-core<1.0.0,>=0.3.72 in c:\\users\\hp\\appdata\\local\\programs\\python\\python312\\lib\\site-packages (from langchain) (0.3.74)\n",
      "Requirement already satisfied: langchain-text-splitters<1.0.0,>=0.3.9 in c:\\users\\hp\\appdata\\local\\programs\\python\\python312\\lib\\site-packages (from langchain) (0.3.9)\n",
      "Requirement already satisfied: langsmith>=0.1.17 in c:\\users\\hp\\appdata\\local\\programs\\python\\python312\\lib\\site-packages (from langchain) (0.4.14)\n",
      "Requirement already satisfied: pydantic<3.0.0,>=2.7.4 in c:\\users\\hp\\appdata\\local\\programs\\python\\python312\\lib\\site-packages (from langchain) (2.11.1)\n",
      "Requirement already satisfied: SQLAlchemy<3,>=1.4 in c:\\users\\hp\\appdata\\local\\programs\\python\\python312\\lib\\site-packages (from langchain) (2.0.43)\n",
      "Requirement already satisfied: requests<3,>=2 in c:\\users\\hp\\appdata\\local\\programs\\python\\python312\\lib\\site-packages (from langchain) (2.32.3)\n",
      "Requirement already satisfied: PyYAML>=5.3 in c:\\users\\hp\\appdata\\local\\programs\\python\\python312\\lib\\site-packages (from langchain) (6.0.2)\n",
      "Requirement already satisfied: tenacity!=8.4.0,<10.0.0,>=8.1.0 in c:\\users\\hp\\appdata\\local\\programs\\python\\python312\\lib\\site-packages (from langchain-core<1.0.0,>=0.3.72->langchain) (9.0.0)\n",
      "Requirement already satisfied: jsonpatch<2.0,>=1.33 in c:\\users\\hp\\appdata\\local\\programs\\python\\python312\\lib\\site-packages (from langchain-core<1.0.0,>=0.3.72->langchain) (1.33)\n",
      "Requirement already satisfied: typing-extensions>=4.7 in c:\\users\\hp\\appdata\\local\\programs\\python\\python312\\lib\\site-packages (from langchain-core<1.0.0,>=0.3.72->langchain) (4.13.0)\n",
      "Requirement already satisfied: packaging>=23.2 in c:\\users\\hp\\appdata\\local\\programs\\python\\python312\\lib\\site-packages (from langchain-core<1.0.0,>=0.3.72->langchain) (24.2)\n",
      "Requirement already satisfied: jsonpointer>=1.9 in c:\\users\\hp\\appdata\\local\\programs\\python\\python312\\lib\\site-packages (from jsonpatch<2.0,>=1.33->langchain-core<1.0.0,>=0.3.72->langchain) (3.0.0)\n",
      "Requirement already satisfied: annotated-types>=0.6.0 in c:\\users\\hp\\appdata\\local\\programs\\python\\python312\\lib\\site-packages (from pydantic<3.0.0,>=2.7.4->langchain) (0.7.0)\n",
      "Requirement already satisfied: pydantic-core==2.33.0 in c:\\users\\hp\\appdata\\local\\programs\\python\\python312\\lib\\site-packages (from pydantic<3.0.0,>=2.7.4->langchain) (2.33.0)\n",
      "Requirement already satisfied: typing-inspection>=0.4.0 in c:\\users\\hp\\appdata\\local\\programs\\python\\python312\\lib\\site-packages (from pydantic<3.0.0,>=2.7.4->langchain) (0.4.0)\n",
      "Requirement already satisfied: charset-normalizer<4,>=2 in c:\\users\\hp\\appdata\\local\\programs\\python\\python312\\lib\\site-packages (from requests<3,>=2->langchain) (3.4.1)\n",
      "Requirement already satisfied: idna<4,>=2.5 in c:\\users\\hp\\appdata\\local\\programs\\python\\python312\\lib\\site-packages (from requests<3,>=2->langchain) (3.10)\n",
      "Requirement already satisfied: urllib3<3,>=1.21.1 in c:\\users\\hp\\appdata\\local\\programs\\python\\python312\\lib\\site-packages (from requests<3,>=2->langchain) (2.3.0)\n",
      "Requirement already satisfied: certifi>=2017.4.17 in c:\\users\\hp\\appdata\\local\\programs\\python\\python312\\lib\\site-packages (from requests<3,>=2->langchain) (2025.1.31)\n",
      "Requirement already satisfied: greenlet>=1 in c:\\users\\hp\\appdata\\local\\programs\\python\\python312\\lib\\site-packages (from SQLAlchemy<3,>=1.4->langchain) (3.2.4)\n",
      "Collecting aiohttp<4.0.0,>=3.8.3 (from langchain-community)\n",
      "  Downloading aiohttp-3.12.15-cp312-cp312-win_amd64.whl.metadata (7.9 kB)\n",
      "Collecting dataclasses-json<0.7,>=0.5.7 (from langchain-community)\n",
      "  Downloading dataclasses_json-0.6.7-py3-none-any.whl.metadata (25 kB)\n",
      "Collecting pydantic-settings<3.0.0,>=2.4.0 (from langchain-community)\n",
      "  Using cached pydantic_settings-2.10.1-py3-none-any.whl.metadata (3.4 kB)\n",
      "Collecting httpx-sse<1.0.0,>=0.4.0 (from langchain-community)\n",
      "  Downloading httpx_sse-0.4.1-py3-none-any.whl.metadata (9.4 kB)\n",
      "Requirement already satisfied: numpy>=1.26.2 in c:\\users\\hp\\appdata\\local\\programs\\python\\python312\\lib\\site-packages (from langchain-community) (2.2.4)\n",
      "Collecting aiohappyeyeballs>=2.5.0 (from aiohttp<4.0.0,>=3.8.3->langchain-community)\n",
      "  Downloading aiohappyeyeballs-2.6.1-py3-none-any.whl.metadata (5.9 kB)\n",
      "Collecting aiosignal>=1.4.0 (from aiohttp<4.0.0,>=3.8.3->langchain-community)\n",
      "  Downloading aiosignal-1.4.0-py3-none-any.whl.metadata (3.7 kB)\n",
      "Requirement already satisfied: attrs>=17.3.0 in c:\\users\\hp\\appdata\\local\\programs\\python\\python312\\lib\\site-packages (from aiohttp<4.0.0,>=3.8.3->langchain-community) (25.3.0)\n",
      "Collecting frozenlist>=1.1.1 (from aiohttp<4.0.0,>=3.8.3->langchain-community)\n",
      "  Downloading frozenlist-1.7.0-cp312-cp312-win_amd64.whl.metadata (19 kB)\n",
      "Collecting multidict<7.0,>=4.5 (from aiohttp<4.0.0,>=3.8.3->langchain-community)\n",
      "  Downloading multidict-6.6.4-cp312-cp312-win_amd64.whl.metadata (5.4 kB)\n",
      "Collecting propcache>=0.2.0 (from aiohttp<4.0.0,>=3.8.3->langchain-community)\n",
      "  Downloading propcache-0.3.2-cp312-cp312-win_amd64.whl.metadata (12 kB)\n",
      "Collecting yarl<2.0,>=1.17.0 (from aiohttp<4.0.0,>=3.8.3->langchain-community)\n",
      "  Downloading yarl-1.20.1-cp312-cp312-win_amd64.whl.metadata (76 kB)\n",
      "Collecting marshmallow<4.0.0,>=3.18.0 (from dataclasses-json<0.7,>=0.5.7->langchain-community)\n",
      "  Downloading marshmallow-3.26.1-py3-none-any.whl.metadata (7.3 kB)\n",
      "Collecting typing-inspect<1,>=0.4.0 (from dataclasses-json<0.7,>=0.5.7->langchain-community)\n",
      "  Downloading typing_inspect-0.9.0-py3-none-any.whl.metadata (1.5 kB)\n",
      "Collecting python-dotenv>=0.21.0 (from pydantic-settings<3.0.0,>=2.4.0->langchain-community)\n",
      "  Using cached python_dotenv-1.1.1-py3-none-any.whl.metadata (24 kB)\n",
      "Collecting mypy-extensions>=0.3.0 (from typing-inspect<1,>=0.4.0->dataclasses-json<0.7,>=0.5.7->langchain-community)\n",
      "  Downloading mypy_extensions-1.1.0-py3-none-any.whl.metadata (1.1 kB)\n",
      "Requirement already satisfied: httpx<1,>=0.23.0 in c:\\users\\hp\\appdata\\local\\programs\\python\\python312\\lib\\site-packages (from langsmith>=0.1.17->langchain) (0.28.1)\n",
      "Requirement already satisfied: orjson>=3.9.14 in c:\\users\\hp\\appdata\\local\\programs\\python\\python312\\lib\\site-packages (from langsmith>=0.1.17->langchain) (3.11.2)\n",
      "Requirement already satisfied: requests-toolbelt>=1.0.0 in c:\\users\\hp\\appdata\\local\\programs\\python\\python312\\lib\\site-packages (from langsmith>=0.1.17->langchain) (1.0.0)\n",
      "Requirement already satisfied: zstandard>=0.23.0 in c:\\users\\hp\\appdata\\local\\programs\\python\\python312\\lib\\site-packages (from langsmith>=0.1.17->langchain) (0.24.0)\n",
      "Requirement already satisfied: anyio in c:\\users\\hp\\appdata\\local\\programs\\python\\python312\\lib\\site-packages (from httpx<1,>=0.23.0->langsmith>=0.1.17->langchain) (4.9.0)\n",
      "Requirement already satisfied: httpcore==1.* in c:\\users\\hp\\appdata\\local\\programs\\python\\python312\\lib\\site-packages (from httpx<1,>=0.23.0->langsmith>=0.1.17->langchain) (1.0.7)\n",
      "Requirement already satisfied: h11<0.15,>=0.13 in c:\\users\\hp\\appdata\\local\\programs\\python\\python312\\lib\\site-packages (from httpcore==1.*->httpx<1,>=0.23.0->langsmith>=0.1.17->langchain) (0.14.0)\n",
      "Requirement already satisfied: sniffio>=1.1 in c:\\users\\hp\\appdata\\local\\programs\\python\\python312\\lib\\site-packages (from anyio->httpx<1,>=0.23.0->langsmith>=0.1.17->langchain) (1.3.1)\n",
      "Downloading langchain_community-0.3.27-py3-none-any.whl (2.5 MB)\n",
      "   ---------------------------------------- 0.0/2.5 MB ? eta -:--:--\n",
      "   ---------------- ----------------------- 1.0/2.5 MB 5.6 MB/s eta 0:00:01\n",
      "   --------------------------------- ------ 2.1/2.5 MB 4.5 MB/s eta 0:00:01\n",
      "   ---------------------------------------- 2.5/2.5 MB 4.3 MB/s  0:00:00\n",
      "Downloading aiohttp-3.12.15-cp312-cp312-win_amd64.whl (450 kB)\n",
      "Downloading dataclasses_json-0.6.7-py3-none-any.whl (28 kB)\n",
      "Downloading httpx_sse-0.4.1-py3-none-any.whl (8.1 kB)\n",
      "Downloading marshmallow-3.26.1-py3-none-any.whl (50 kB)\n",
      "Downloading multidict-6.6.4-cp312-cp312-win_amd64.whl (46 kB)\n",
      "Using cached pydantic_settings-2.10.1-py3-none-any.whl (45 kB)\n",
      "Downloading typing_inspect-0.9.0-py3-none-any.whl (8.8 kB)\n",
      "Downloading yarl-1.20.1-cp312-cp312-win_amd64.whl (86 kB)\n",
      "Downloading aiohappyeyeballs-2.6.1-py3-none-any.whl (15 kB)\n",
      "Downloading aiosignal-1.4.0-py3-none-any.whl (7.5 kB)\n",
      "Downloading frozenlist-1.7.0-cp312-cp312-win_amd64.whl (43 kB)\n",
      "Downloading mypy_extensions-1.1.0-py3-none-any.whl (5.0 kB)\n",
      "Downloading propcache-0.3.2-cp312-cp312-win_amd64.whl (41 kB)\n",
      "Using cached python_dotenv-1.1.1-py3-none-any.whl (20 kB)\n",
      "Installing collected packages: python-dotenv, propcache, mypy-extensions, multidict, marshmallow, httpx-sse, frozenlist, aiohappyeyeballs, yarl, typing-inspect, aiosignal, pydantic-settings, dataclasses-json, aiohttp, langchain-community\n",
      "\n",
      "   ----------------------------------------  0/15 [python-dotenv]\n",
      "   ----- ----------------------------------  2/15 [mypy-extensions]\n",
      "   ---------- -----------------------------  4/15 [marshmallow]\n",
      "   ------------- --------------------------  5/15 [httpx-sse]\n",
      "   ------------------ ---------------------  7/15 [aiohappyeyeballs]\n",
      "   ------------------------ ---------------  9/15 [typing-inspect]\n",
      "   ----------------------------- ---------- 11/15 [pydantic-settings]\n",
      "   ----------------------------- ---------- 11/15 [pydantic-settings]\n",
      "   -------------------------------- ------- 12/15 [dataclasses-json]\n",
      "   ---------------------------------- ----- 13/15 [aiohttp]\n",
      "   ---------------------------------- ----- 13/15 [aiohttp]\n",
      "   ---------------------------------- ----- 13/15 [aiohttp]\n",
      "   ---------------------------------- ----- 13/15 [aiohttp]\n",
      "   ---------------------------------- ----- 13/15 [aiohttp]\n",
      "   ---------------------------------- ----- 13/15 [aiohttp]\n",
      "   ------------------------------------- -- 14/15 [langchain-community]\n",
      "   ------------------------------------- -- 14/15 [langchain-community]\n",
      "   ------------------------------------- -- 14/15 [langchain-community]\n",
      "   ------------------------------------- -- 14/15 [langchain-community]\n",
      "   ------------------------------------- -- 14/15 [langchain-community]\n",
      "   ------------------------------------- -- 14/15 [langchain-community]\n",
      "   ------------------------------------- -- 14/15 [langchain-community]\n",
      "   ------------------------------------- -- 14/15 [langchain-community]\n",
      "   ------------------------------------- -- 14/15 [langchain-community]\n",
      "   ------------------------------------- -- 14/15 [langchain-community]\n",
      "   ------------------------------------- -- 14/15 [langchain-community]\n",
      "   ------------------------------------- -- 14/15 [langchain-community]\n",
      "   ------------------------------------- -- 14/15 [langchain-community]\n",
      "   ------------------------------------- -- 14/15 [langchain-community]\n",
      "   ------------------------------------- -- 14/15 [langchain-community]\n",
      "   ------------------------------------- -- 14/15 [langchain-community]\n",
      "   ------------------------------------- -- 14/15 [langchain-community]\n",
      "   ------------------------------------- -- 14/15 [langchain-community]\n",
      "   ------------------------------------- -- 14/15 [langchain-community]\n",
      "   ------------------------------------- -- 14/15 [langchain-community]\n",
      "   ------------------------------------- -- 14/15 [langchain-community]\n",
      "   ------------------------------------- -- 14/15 [langchain-community]\n",
      "   ------------------------------------- -- 14/15 [langchain-community]\n",
      "   ------------------------------------- -- 14/15 [langchain-community]\n",
      "   ------------------------------------- -- 14/15 [langchain-community]\n",
      "   ------------------------------------- -- 14/15 [langchain-community]\n",
      "   ------------------------------------- -- 14/15 [langchain-community]\n",
      "   ------------------------------------- -- 14/15 [langchain-community]\n",
      "   ------------------------------------- -- 14/15 [langchain-community]\n",
      "   ------------------------------------- -- 14/15 [langchain-community]\n",
      "   ------------------------------------- -- 14/15 [langchain-community]\n",
      "   ------------------------------------- -- 14/15 [langchain-community]\n",
      "   ------------------------------------- -- 14/15 [langchain-community]\n",
      "   ------------------------------------- -- 14/15 [langchain-community]\n",
      "   ------------------------------------- -- 14/15 [langchain-community]\n",
      "   ------------------------------------- -- 14/15 [langchain-community]\n",
      "   ------------------------------------- -- 14/15 [langchain-community]\n",
      "   ------------------------------------- -- 14/15 [langchain-community]\n",
      "   ------------------------------------- -- 14/15 [langchain-community]\n",
      "   ------------------------------------- -- 14/15 [langchain-community]\n",
      "   ------------------------------------- -- 14/15 [langchain-community]\n",
      "   ------------------------------------- -- 14/15 [langchain-community]\n",
      "   ------------------------------------- -- 14/15 [langchain-community]\n",
      "   ------------------------------------- -- 14/15 [langchain-community]\n",
      "   ------------------------------------- -- 14/15 [langchain-community]\n",
      "   ------------------------------------- -- 14/15 [langchain-community]\n",
      "   ------------------------------------- -- 14/15 [langchain-community]\n",
      "   ------------------------------------- -- 14/15 [langchain-community]\n",
      "   ------------------------------------- -- 14/15 [langchain-community]\n",
      "   ------------------------------------- -- 14/15 [langchain-community]\n",
      "   ------------------------------------- -- 14/15 [langchain-community]\n",
      "   ------------------------------------- -- 14/15 [langchain-community]\n",
      "   ------------------------------------- -- 14/15 [langchain-community]\n",
      "   ------------------------------------- -- 14/15 [langchain-community]\n",
      "   ------------------------------------- -- 14/15 [langchain-community]\n",
      "   ------------------------------------- -- 14/15 [langchain-community]\n",
      "   ------------------------------------- -- 14/15 [langchain-community]\n",
      "   ------------------------------------- -- 14/15 [langchain-community]\n",
      "   ------------------------------------- -- 14/15 [langchain-community]\n",
      "   ------------------------------------- -- 14/15 [langchain-community]\n",
      "   ------------------------------------- -- 14/15 [langchain-community]\n",
      "   ------------------------------------- -- 14/15 [langchain-community]\n",
      "   ------------------------------------- -- 14/15 [langchain-community]\n",
      "   ------------------------------------- -- 14/15 [langchain-community]\n",
      "   ------------------------------------- -- 14/15 [langchain-community]\n",
      "   ------------------------------------- -- 14/15 [langchain-community]\n",
      "   ------------------------------------- -- 14/15 [langchain-community]\n",
      "   ------------------------------------- -- 14/15 [langchain-community]\n",
      "   ------------------------------------- -- 14/15 [langchain-community]\n",
      "   ------------------------------------- -- 14/15 [langchain-community]\n",
      "   ------------------------------------- -- 14/15 [langchain-community]\n",
      "   ------------------------------------- -- 14/15 [langchain-community]\n",
      "   ------------------------------------- -- 14/15 [langchain-community]\n",
      "   ------------------------------------- -- 14/15 [langchain-community]\n",
      "   ------------------------------------- -- 14/15 [langchain-community]\n",
      "   ------------------------------------- -- 14/15 [langchain-community]\n",
      "   ------------------------------------- -- 14/15 [langchain-community]\n",
      "   ------------------------------------- -- 14/15 [langchain-community]\n",
      "   ------------------------------------- -- 14/15 [langchain-community]\n",
      "   ------------------------------------- -- 14/15 [langchain-community]\n",
      "   ------------------------------------- -- 14/15 [langchain-community]\n",
      "   ------------------------------------- -- 14/15 [langchain-community]\n",
      "   ------------------------------------- -- 14/15 [langchain-community]\n",
      "   ------------------------------------- -- 14/15 [langchain-community]\n",
      "   ------------------------------------- -- 14/15 [langchain-community]\n",
      "   ------------------------------------- -- 14/15 [langchain-community]\n",
      "   ------------------------------------- -- 14/15 [langchain-community]\n",
      "   ------------------------------------- -- 14/15 [langchain-community]\n",
      "   ------------------------------------- -- 14/15 [langchain-community]\n",
      "   ------------------------------------- -- 14/15 [langchain-community]\n",
      "   ------------------------------------- -- 14/15 [langchain-community]\n",
      "   ------------------------------------- -- 14/15 [langchain-community]\n",
      "   ------------------------------------- -- 14/15 [langchain-community]\n",
      "   ------------------------------------- -- 14/15 [langchain-community]\n",
      "   ------------------------------------- -- 14/15 [langchain-community]\n",
      "   ------------------------------------- -- 14/15 [langchain-community]\n",
      "   ------------------------------------- -- 14/15 [langchain-community]\n",
      "   ------------------------------------- -- 14/15 [langchain-community]\n",
      "   ------------------------------------- -- 14/15 [langchain-community]\n",
      "   ------------------------------------- -- 14/15 [langchain-community]\n",
      "   ------------------------------------- -- 14/15 [langchain-community]\n",
      "   ------------------------------------- -- 14/15 [langchain-community]\n",
      "   ------------------------------------- -- 14/15 [langchain-community]\n",
      "   ------------------------------------- -- 14/15 [langchain-community]\n",
      "   ------------------------------------- -- 14/15 [langchain-community]\n",
      "   ------------------------------------- -- 14/15 [langchain-community]\n",
      "   ------------------------------------- -- 14/15 [langchain-community]\n",
      "   ------------------------------------- -- 14/15 [langchain-community]\n",
      "   ------------------------------------- -- 14/15 [langchain-community]\n",
      "   ------------------------------------- -- 14/15 [langchain-community]\n",
      "   ------------------------------------- -- 14/15 [langchain-community]\n",
      "   ------------------------------------- -- 14/15 [langchain-community]\n",
      "   ------------------------------------- -- 14/15 [langchain-community]\n",
      "   ------------------------------------- -- 14/15 [langchain-community]\n",
      "   ------------------------------------- -- 14/15 [langchain-community]\n",
      "   ------------------------------------- -- 14/15 [langchain-community]\n",
      "   ------------------------------------- -- 14/15 [langchain-community]\n",
      "   ---------------------------------------- 15/15 [langchain-community]\n",
      "\n",
      "Successfully installed aiohappyeyeballs-2.6.1 aiohttp-3.12.15 aiosignal-1.4.0 dataclasses-json-0.6.7 frozenlist-1.7.0 httpx-sse-0.4.1 langchain-community-0.3.27 marshmallow-3.26.1 multidict-6.6.4 mypy-extensions-1.1.0 propcache-0.3.2 pydantic-settings-2.10.1 python-dotenv-1.1.1 typing-inspect-0.9.0 yarl-1.20.1\n"
     ]
    }
   ],
   "source": [
    "!pip install -U langchain langchain-community"
   ]
  },
  {
   "cell_type": "code",
   "execution_count": 18,
   "metadata": {},
   "outputs": [
    {
     "name": "stdout",
     "output_type": "stream",
     "text": [
      "Collecting openai\n",
      "  Downloading openai-1.99.9-py3-none-any.whl.metadata (29 kB)\n",
      "Requirement already satisfied: anyio<5,>=3.5.0 in c:\\users\\hp\\appdata\\local\\programs\\python\\python312\\lib\\site-packages (from openai) (4.9.0)\n",
      "Collecting distro<2,>=1.7.0 (from openai)\n",
      "  Downloading distro-1.9.0-py3-none-any.whl.metadata (6.8 kB)\n",
      "Requirement already satisfied: httpx<1,>=0.23.0 in c:\\users\\hp\\appdata\\local\\programs\\python\\python312\\lib\\site-packages (from openai) (0.28.1)\n",
      "Collecting jiter<1,>=0.4.0 (from openai)\n",
      "  Using cached jiter-0.10.0-cp312-cp312-win_amd64.whl.metadata (5.3 kB)\n",
      "Requirement already satisfied: pydantic<3,>=1.9.0 in c:\\users\\hp\\appdata\\local\\programs\\python\\python312\\lib\\site-packages (from openai) (2.11.1)\n",
      "Requirement already satisfied: sniffio in c:\\users\\hp\\appdata\\local\\programs\\python\\python312\\lib\\site-packages (from openai) (1.3.1)\n",
      "Requirement already satisfied: tqdm>4 in c:\\users\\hp\\appdata\\local\\programs\\python\\python312\\lib\\site-packages (from openai) (4.67.1)\n",
      "Requirement already satisfied: typing-extensions<5,>=4.11 in c:\\users\\hp\\appdata\\local\\programs\\python\\python312\\lib\\site-packages (from openai) (4.13.0)\n",
      "Requirement already satisfied: idna>=2.8 in c:\\users\\hp\\appdata\\local\\programs\\python\\python312\\lib\\site-packages (from anyio<5,>=3.5.0->openai) (3.10)\n",
      "Requirement already satisfied: certifi in c:\\users\\hp\\appdata\\local\\programs\\python\\python312\\lib\\site-packages (from httpx<1,>=0.23.0->openai) (2025.1.31)\n",
      "Requirement already satisfied: httpcore==1.* in c:\\users\\hp\\appdata\\local\\programs\\python\\python312\\lib\\site-packages (from httpx<1,>=0.23.0->openai) (1.0.7)\n",
      "Requirement already satisfied: h11<0.15,>=0.13 in c:\\users\\hp\\appdata\\local\\programs\\python\\python312\\lib\\site-packages (from httpcore==1.*->httpx<1,>=0.23.0->openai) (0.14.0)\n",
      "Requirement already satisfied: annotated-types>=0.6.0 in c:\\users\\hp\\appdata\\local\\programs\\python\\python312\\lib\\site-packages (from pydantic<3,>=1.9.0->openai) (0.7.0)\n",
      "Requirement already satisfied: pydantic-core==2.33.0 in c:\\users\\hp\\appdata\\local\\programs\\python\\python312\\lib\\site-packages (from pydantic<3,>=1.9.0->openai) (2.33.0)\n",
      "Requirement already satisfied: typing-inspection>=0.4.0 in c:\\users\\hp\\appdata\\local\\programs\\python\\python312\\lib\\site-packages (from pydantic<3,>=1.9.0->openai) (0.4.0)\n",
      "Requirement already satisfied: colorama in c:\\users\\hp\\appdata\\local\\programs\\python\\python312\\lib\\site-packages (from tqdm>4->openai) (0.4.6)\n",
      "Downloading openai-1.99.9-py3-none-any.whl (786 kB)\n",
      "   ---------------------------------------- 0.0/786.8 kB ? eta -:--:--\n",
      "   ---------------------------------------- 786.8/786.8 kB 8.5 MB/s  0:00:00\n",
      "Downloading distro-1.9.0-py3-none-any.whl (20 kB)\n",
      "Using cached jiter-0.10.0-cp312-cp312-win_amd64.whl (206 kB)\n",
      "Installing collected packages: jiter, distro, openai\n",
      "\n",
      "   ------------- -------------------------- 1/3 [distro]\n",
      "   -------------------------- ------------- 2/3 [openai]\n",
      "   -------------------------- ------------- 2/3 [openai]\n",
      "   -------------------------- ------------- 2/3 [openai]\n",
      "   -------------------------- ------------- 2/3 [openai]\n",
      "   -------------------------- ------------- 2/3 [openai]\n",
      "   -------------------------- ------------- 2/3 [openai]\n",
      "   -------------------------- ------------- 2/3 [openai]\n",
      "   -------------------------- ------------- 2/3 [openai]\n",
      "   -------------------------- ------------- 2/3 [openai]\n",
      "   -------------------------- ------------- 2/3 [openai]\n",
      "   -------------------------- ------------- 2/3 [openai]\n",
      "   -------------------------- ------------- 2/3 [openai]\n",
      "   -------------------------- ------------- 2/3 [openai]\n",
      "   -------------------------- ------------- 2/3 [openai]\n",
      "   -------------------------- ------------- 2/3 [openai]\n",
      "   -------------------------- ------------- 2/3 [openai]\n",
      "   -------------------------- ------------- 2/3 [openai]\n",
      "   -------------------------- ------------- 2/3 [openai]\n",
      "   -------------------------- ------------- 2/3 [openai]\n",
      "   -------------------------- ------------- 2/3 [openai]\n",
      "   -------------------------- ------------- 2/3 [openai]\n",
      "   -------------------------- ------------- 2/3 [openai]\n",
      "   -------------------------- ------------- 2/3 [openai]\n",
      "   -------------------------- ------------- 2/3 [openai]\n",
      "   -------------------------- ------------- 2/3 [openai]\n",
      "   -------------------------- ------------- 2/3 [openai]\n",
      "   -------------------------- ------------- 2/3 [openai]\n",
      "   -------------------------- ------------- 2/3 [openai]\n",
      "   -------------------------- ------------- 2/3 [openai]\n",
      "   -------------------------- ------------- 2/3 [openai]\n",
      "   -------------------------- ------------- 2/3 [openai]\n",
      "   -------------------------- ------------- 2/3 [openai]\n",
      "   -------------------------- ------------- 2/3 [openai]\n",
      "   -------------------------- ------------- 2/3 [openai]\n",
      "   -------------------------- ------------- 2/3 [openai]\n",
      "   -------------------------- ------------- 2/3 [openai]\n",
      "   -------------------------- ------------- 2/3 [openai]\n",
      "   -------------------------- ------------- 2/3 [openai]\n",
      "   -------------------------- ------------- 2/3 [openai]\n",
      "   -------------------------- ------------- 2/3 [openai]\n",
      "   -------------------------- ------------- 2/3 [openai]\n",
      "   -------------------------- ------------- 2/3 [openai]\n",
      "   -------------------------- ------------- 2/3 [openai]\n",
      "   -------------------------- ------------- 2/3 [openai]\n",
      "   -------------------------- ------------- 2/3 [openai]\n",
      "   -------------------------- ------------- 2/3 [openai]\n",
      "   -------------------------- ------------- 2/3 [openai]\n",
      "   -------------------------- ------------- 2/3 [openai]\n",
      "   -------------------------- ------------- 2/3 [openai]\n",
      "   -------------------------- ------------- 2/3 [openai]\n",
      "   -------------------------- ------------- 2/3 [openai]\n",
      "   -------------------------- ------------- 2/3 [openai]\n",
      "   -------------------------- ------------- 2/3 [openai]\n",
      "   -------------------------- ------------- 2/3 [openai]\n",
      "   -------------------------- ------------- 2/3 [openai]\n",
      "   -------------------------- ------------- 2/3 [openai]\n",
      "   -------------------------- ------------- 2/3 [openai]\n",
      "   -------------------------- ------------- 2/3 [openai]\n",
      "   -------------------------- ------------- 2/3 [openai]\n",
      "   ---------------------------------------- 3/3 [openai]\n",
      "\n",
      "Successfully installed distro-1.9.0 jiter-0.10.0 openai-1.99.9\n"
     ]
    }
   ],
   "source": [
    "!pip install openai"
   ]
  },
  {
   "cell_type": "code",
   "execution_count": 19,
   "metadata": {},
   "outputs": [
    {
     "name": "stderr",
     "output_type": "stream",
     "text": [
      "C:\\Users\\HP\\AppData\\Local\\Temp\\ipykernel_11920\\965153617.py:5: LangChainDeprecationWarning: The class `LLMChain` was deprecated in LangChain 0.1.17 and will be removed in 1.0. Use :meth:`~RunnableSequence, e.g., `prompt | llm`` instead.\n",
      "  chain1=LLMChain(llm=llm,prompt=prompt)\n"
     ]
    }
   ],
   "source": [
    "from langchain.llms import OpenAI\n",
    "from langchain.chains import LLMChain\n",
    "\n",
    "llm=OpenAI(temperature=0.7)\n",
    "chain1=LLMChain(llm=llm,prompt=prompt)"
   ]
  },
  {
   "cell_type": "code",
   "execution_count": 20,
   "metadata": {},
   "outputs": [
    {
     "name": "stderr",
     "output_type": "stream",
     "text": [
      "C:\\Users\\HP\\AppData\\Local\\Temp\\ipykernel_11920\\1747960014.py:1: LangChainDeprecationWarning: The method `Chain.run` was deprecated in langchain 0.1.0 and will be removed in 1.0. Use :meth:`~invoke` instead.\n",
      "  chain1.run('Income Tax')\n"
     ]
    },
    {
     "data": {
      "text/plain": [
       "\"\\n\\nIncome tax is a tax that individuals and businesses pay on their earnings or income. It is a way for the government to generate revenue to fund public services and programs.\\n\\nIf you are an individual earning income from a salary, business, investments, or any other source, you are required to file an income tax return every year. This return summarizes your income and calculates the tax you owe to the government.\\n\\nTo file your income tax return, you will need your income statements such as salary slips, interest certificates, and investment documents. You will also need your PAN (Permanent Account Number) which is a unique ten-digit alphanumeric number assigned to every taxpayer by the Income Tax Department.\\n\\nThe process of filing an income tax return can be done online through the Income Tax Department's website or offline by physically submitting a paper return at the designated tax office. The online method is more convenient and faster, and you can also track the status of your return.\\n\\nWhen filing your return, you may be eligible for deductions and exemptions that can reduce your taxable income and ultimately lower your tax liability. Some common deductions include investments in certain schemes such as Public Provident Fund (PPF) and payments towards life insurance premiums.\\n\\nIt is important to file your income tax return on time to avoid penalties and interest charges\""
      ]
     },
     "execution_count": 20,
     "metadata": {},
     "output_type": "execute_result"
    }
   ],
   "source": [
    "chain1.run('Income Tax')"
   ]
  },
  {
   "cell_type": "markdown",
   "metadata": {},
   "source": [
    "## LANGUAGE TRANSLATION USING LANGCHAIN"
   ]
  },
  {
   "cell_type": "code",
   "execution_count": 21,
   "metadata": {},
   "outputs": [
    {
     "data": {
      "text/plain": [
       "\"In an easy way translate the following sentence 'Generativa AI & LLM is the future for next 3 years' into hindi\""
      ]
     },
     "execution_count": 21,
     "metadata": {},
     "output_type": "execute_result"
    }
   ],
   "source": [
    "from langchain import PromptTemplate\n",
    "\n",
    "template='''In an easy way translate the following sentence '{sentence}' into {target_language}'''\n",
    "language_prompt = PromptTemplate(\n",
    "    input_variables=[\"sentence\",'target_language'],\n",
    "    template=template,\n",
    ")\n",
    "language_prompt.format(sentence=\"Generativa AI & LLM is the future for next 3 years\",target_language='hindi')"
   ]
  },
  {
   "cell_type": "code",
   "execution_count": 22,
   "metadata": {},
   "outputs": [
    {
     "name": "stderr",
     "output_type": "stream",
     "text": [
      "C:\\Users\\HP\\AppData\\Local\\Temp\\ipykernel_11920\\1278528551.py:3: LangChainDeprecationWarning: The method `Chain.__call__` was deprecated in langchain 0.1.0 and will be removed in 1.0. Use :meth:`~invoke` instead.\n",
      "  chain2({'sentence':\"Generativa AI & LLM is the future for next 3 years\",'target_language':'hindi'})\n"
     ]
    },
    {
     "data": {
      "text/plain": [
       "{'sentence': 'Generativa AI & LLM is the future for next 3 years',\n",
       " 'target_language': 'hindi',\n",
       " 'text': '\\n\\nजनरेटिव एआई और एलएलएम अगले 3 साल के लिए भविष्य है।'}"
      ]
     },
     "execution_count": 22,
     "metadata": {},
     "output_type": "execute_result"
    }
   ],
   "source": [
    "chain2=LLMChain(llm=llm,prompt=language_prompt)\n",
    "\n",
    "chain2({'sentence':\"Generativa AI & LLM is the future for next 3 years\",'target_language':'hindi'})"
   ]
  },
  {
   "cell_type": "markdown",
   "metadata": {},
   "source": [
    "### langchain fewshotprompttemplate\n",
    "https://python.langchain.com/docs/modules/model_io/prompts/few_shot_examples_chat/"
   ]
  },
  {
   "cell_type": "code",
   "execution_count": 23,
   "metadata": {},
   "outputs": [],
   "source": [
    "from langchain_core.prompts import (\n",
    "    ChatPromptTemplate,\n",
    "    FewShotChatMessagePromptTemplate,\n",
    ")"
   ]
  },
  {
   "cell_type": "code",
   "execution_count": 24,
   "metadata": {},
   "outputs": [
    {
     "data": {
      "text/plain": [
       "[{'input': '2+2', 'output': '4'}, {'input': '2+3', 'output': '5'}]"
      ]
     },
     "execution_count": 24,
     "metadata": {},
     "output_type": "execute_result"
    }
   ],
   "source": [
    "examples = [\n",
    "    {\"input\": \"2+2\", \"output\": \"4\"},\n",
    "    {\"input\": \"2+3\", \"output\": \"5\"},\n",
    "]\n",
    "examples"
   ]
  },
  {
   "cell_type": "code",
   "execution_count": 25,
   "metadata": {},
   "outputs": [
    {
     "name": "stdout",
     "output_type": "stream",
     "text": [
      "Human: 2+2\n",
      "AI: 4\n",
      "Human: 2+3\n",
      "AI: 5\n"
     ]
    }
   ],
   "source": [
    "# This is a prompt template used to format each individual example.\n",
    "example_prompt = ChatPromptTemplate.from_messages(\n",
    "    [\n",
    "        (\"human\", \"{input}\"),\n",
    "        (\"ai\", \"{output}\"),\n",
    "    ]\n",
    ")\n",
    "few_shot_prompt = FewShotChatMessagePromptTemplate(\n",
    "    example_prompt=example_prompt,\n",
    "    examples=examples,\n",
    ")\n",
    "\n",
    "print(few_shot_prompt.format())"
   ]
  },
  {
   "cell_type": "code",
   "execution_count": 26,
   "metadata": {},
   "outputs": [],
   "source": [
    "from langchain import PromptTemplate, FewShotPromptTemplate\n",
    "\n",
    "# First, create the list of few shot examples.\n",
    "examples = [\n",
    "    {\"word\": \"success\", \"antonym\": \"failure\"},\n",
    "    {\"word\": \"placed\", \"antonym\": \"not placed\"},\n",
    "]\n",
    "\n",
    "# Next, we specify the template to format the examples we have provided.\n",
    "# We use the `PromptTemplate` class for this.\n",
    "example_formatter_template = \"\"\"Word: {word}\n",
    "Antonym: {antonym}\n",
    "\"\"\"\n",
    "\n",
    "example_prompt = PromptTemplate(\n",
    "    input_variables=[\"word\", \"antonym\"],\n",
    "    template=example_formatter_template,\n",
    ")"
   ]
  },
  {
   "cell_type": "code",
   "execution_count": 27,
   "metadata": {},
   "outputs": [],
   "source": [
    "# Finally, we create the `FewShotPromptTemplate` object.\n",
    "few_shot_prompt = FewShotPromptTemplate(\n",
    "    # These are the examples we want to insert into the prompt.\n",
    "    examples=examples,\n",
    "    # This is how we want to format the examples when we insert them into the prompt.\n",
    "    example_prompt=example_prompt,\n",
    "    # The prefix is some text that goes before the examples in the prompt.\n",
    "    # Usually, this consists of intructions.\n",
    "    prefix=\"Give the antonym of every input\\n\",\n",
    "    # The suffix is some text that goes after the examples in the prompt.\n",
    "    # Usually, this is where the user input will go\n",
    "    suffix=\"Word: {input}\\nAntonym: \",\n",
    "    # The input variables are the variables that the overall prompt expects.\n",
    "    input_variables=[\"input\"],\n",
    "    # The example_separator is the string we will use to join the prefix, examples, and suffix together with.\n",
    "    example_separator=\"\\n\",\n",
    ")"
   ]
  },
  {
   "cell_type": "code",
   "execution_count": 28,
   "metadata": {},
   "outputs": [
    {
     "name": "stdout",
     "output_type": "stream",
     "text": [
      "Give the antonym of every input\n",
      "\n",
      "Word: success\n",
      "Antonym: failure\n",
      "\n",
      "Word: placed\n",
      "Antonym: not placed\n",
      "\n",
      "Word: big\n",
      "Antonym: \n"
     ]
    }
   ],
   "source": [
    "#print(few_shot_prompt.format)\n",
    "print(few_shot_prompt.format(input='big'))"
   ]
  },
  {
   "cell_type": "code",
   "execution_count": 29,
   "metadata": {},
   "outputs": [
    {
     "data": {
      "text/plain": [
       "{'input': 'big', 'text': ' small'}"
      ]
     },
     "execution_count": 29,
     "metadata": {},
     "output_type": "execute_result"
    }
   ],
   "source": [
    "chain=LLMChain(llm=llm,prompt=few_shot_prompt)\n",
    "chain({'input':\"big\"})"
   ]
  },
  {
   "attachments": {},
   "cell_type": "markdown",
   "metadata": {},
   "source": []
  }
 ],
 "metadata": {
  "kernelspec": {
   "display_name": "Python 3",
   "language": "python",
   "name": "python3"
  },
  "language_info": {
   "codemirror_mode": {
    "name": "ipython",
    "version": 3
   },
   "file_extension": ".py",
   "mimetype": "text/x-python",
   "name": "python",
   "nbconvert_exporter": "python",
   "pygments_lexer": "ipython3",
   "version": "3.12.4"
  },
  "orig_nbformat": 4
 },
 "nbformat": 4,
 "nbformat_minor": 2
}
