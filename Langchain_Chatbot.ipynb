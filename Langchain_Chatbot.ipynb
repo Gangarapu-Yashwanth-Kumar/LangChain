{
 "cells": [
  {
   "cell_type": "code",
   "execution_count": 1,
   "id": "4eda83d3",
   "metadata": {},
   "outputs": [],
   "source": [
    "!pip install -qU \"langchain[google-genai]\""
   ]
  },
  {
   "cell_type": "code",
   "execution_count": null,
   "id": "f52a733f",
   "metadata": {},
   "outputs": [],
   "source": [
    "import os\n",
    "\n",
    "# Set the API key (Note: avoid hardcoding sensitive keys in production)\n",
    "os.environ[\"GOOGLE_API_KEY\"] = \"ENTER_API_KEY\"\n",
    "\n",
    "# Import the correct class for using Gemini models via LangChain\n",
    "from langchain_google_genai import ChatGoogleGenerativeAI\n",
    "\n",
    "# Initialize the model (use \"gemini-1.5-flash\" or \"gemini-1.5-pro\" – not \"2.0-flash\" as it doesn't exist)\n",
    "model = ChatGoogleGenerativeAI(model=\"gemini-1.5-flash\")"
   ]
  },
  {
   "cell_type": "code",
   "execution_count": 3,
   "id": "b09b2ba8",
   "metadata": {},
   "outputs": [
    {
     "name": "stdout",
     "output_type": "stream",
     "text": [
      "The current President of India is **Droupadi Murmu**.\n",
      "content='The current President of India is **Droupadi Murmu**.' additional_kwargs={} response_metadata={'prompt_feedback': {'block_reason': 0, 'safety_ratings': []}, 'finish_reason': 'STOP', 'model_name': 'gemini-1.5-flash', 'safety_ratings': []} id='run--c575cd4f-4815-4e69-831d-ba05db07e3e9-0' usage_metadata={'input_tokens': 7, 'output_tokens': 14, 'total_tokens': 21, 'input_token_details': {'cache_read': 0}}\n"
     ]
    }
   ],
   "source": [
    "# Test the model\n",
    "response = model.invoke(\"Who is the President of India?\")\n",
    "print(response.content)\n",
    "\n",
    "result  = model.invoke(\"Who is the President of India?\")\n",
    "print(result)"
   ]
  },
  {
   "cell_type": "code",
   "execution_count": null,
   "id": "bbfc3b27",
   "metadata": {},
   "outputs": [],
   "source": []
  }
 ],
 "metadata": {
  "kernelspec": {
   "display_name": "base",
   "language": "python",
   "name": "python3"
  },
  "language_info": {
   "codemirror_mode": {
    "name": "ipython",
    "version": 3
   },
   "file_extension": ".py",
   "mimetype": "text/x-python",
   "name": "python",
   "nbconvert_exporter": "python",
   "pygments_lexer": "ipython3",
   "version": "3.12.3"
  }
 },
 "nbformat": 4,
 "nbformat_minor": 5
}
